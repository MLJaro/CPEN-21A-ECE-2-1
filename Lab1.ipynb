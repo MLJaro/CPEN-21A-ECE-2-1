{
  "nbformat": 4,
  "nbformat_minor": 0,
  "metadata": {
    "colab": {
      "name": "Lab1.ipynb",
      "provenance": [],
      "collapsed_sections": [],
      "include_colab_link": true
    },
    "kernelspec": {
      "name": "python3",
      "display_name": "Python 3"
    },
    "language_info": {
      "name": "python"
    }
  },
  "cells": [
    {
      "cell_type": "markdown",
      "metadata": {
        "id": "view-in-github",
        "colab_type": "text"
      },
      "source": [
        "<a href=\"https://colab.research.google.com/github/MLJaro/CPEN-21A-ECE-2-1/blob/main/Lab1.ipynb\" target=\"_parent\"><img src=\"https://colab.research.google.com/assets/colab-badge.svg\" alt=\"Open In Colab\"/></a>"
      ]
    },
    {
      "cell_type": "markdown",
      "metadata": {
        "id": "nFaDcd50c6l5"
      },
      "source": [
        "#Laboratory 1"
      ]
    },
    {
      "cell_type": "code",
      "metadata": {
        "colab": {
          "base_uri": "https://localhost:8080/"
        },
        "id": "WkqLlIaec_Py",
        "outputId": "3ddf1bfc-75d5-4350-ebd9-df78ee8edd1c"
      },
      "source": [
        "W= \"Welcome to Phyton Programming\"\n",
        "print(W)"
      ],
      "execution_count": null,
      "outputs": [
        {
          "output_type": "stream",
          "name": "stdout",
          "text": [
            "Welcome to Phyton Programming\n"
          ]
        }
      ]
    },
    {
      "cell_type": "code",
      "metadata": {
        "colab": {
          "base_uri": "https://localhost:8080/"
        },
        "id": "bdxmNJ9Ddrvl",
        "outputId": "88eec41c-4ec5-4f2e-ce38-0edde43a2cfb"
      },
      "source": [
        "M= \"Name: Mayven Lavern D.Jaro\"\n",
        "L= \"Address: Landmass Park Subdivision, Biga, Tanza, Cavite\"\n",
        "J= \"Age: 19 years old\"\n",
        "print(M)\n",
        "print(L)\n",
        "print(J)"
      ],
      "execution_count": null,
      "outputs": [
        {
          "output_type": "stream",
          "name": "stdout",
          "text": [
            "Name: Mayven Lavern D.Jaro\n",
            "Address: Landmass Park Subdivision, Biga, Tanza, Cavite\n",
            "Age: 19 years old\n"
          ]
        }
      ]
    }
  ]
}