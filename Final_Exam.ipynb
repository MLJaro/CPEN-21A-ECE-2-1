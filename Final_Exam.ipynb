{
  "nbformat": 4,
  "nbformat_minor": 0,
  "metadata": {
    "colab": {
      "name": "Final Exam.ipynb",
      "provenance": [],
      "collapsed_sections": [],
      "authorship_tag": "ABX9TyM79jubJy/FG3zNVQFceSk/",
      "include_colab_link": true
    },
    "kernelspec": {
      "name": "python3",
      "display_name": "Python 3"
    },
    "language_info": {
      "name": "python"
    }
  },
  "cells": [
    {
      "cell_type": "markdown",
      "metadata": {
        "id": "view-in-github",
        "colab_type": "text"
      },
      "source": [
        "<a href=\"https://colab.research.google.com/github/MLJaro/CPEN-21A-ECE-2-1/blob/main/Final_Exam.ipynb\" target=\"_parent\"><img src=\"https://colab.research.google.com/assets/colab-badge.svg\" alt=\"Open In Colab\"/></a>"
      ]
    },
    {
      "cell_type": "markdown",
      "source": [
        "##Final Exam"
      ],
      "metadata": {
        "id": "30Uun1ZuTIUb"
      }
    },
    {
      "cell_type": "markdown",
      "source": [
        "##Problem Statement 1"
      ],
      "metadata": {
        "id": "6ngWTz46_Ava"
      }
    },
    {
      "cell_type": "markdown",
      "source": [
        "##For Loop"
      ],
      "metadata": {
        "id": "YfLUEPXqTz5I"
      }
    },
    {
      "cell_type": "code",
      "source": [
        "lst = []\n",
        "num = 0\n",
        "for num in range (0,10):\n",
        "  temp=int(input(\"Enter a number:\"))\n",
        "  lst.append(temp)\n",
        "\n",
        "num = 0\n",
        "summation = 0\n",
        "print(lst)\n",
        "for num in lst:\n",
        "  if num<5:\n",
        "    summation = summation+num\n",
        "print(\"The sum of numbers that are less than 5 is:\",summation)"
      ],
      "metadata": {
        "colab": {
          "base_uri": "https://localhost:8080/"
        },
        "id": "zakfqdiK7oog",
        "outputId": "a11a157a-120f-4ccd-8862-380efeafa36a"
      },
      "execution_count": 37,
      "outputs": [
        {
          "output_type": "stream",
          "name": "stdout",
          "text": [
            "Enter a number:31\n",
            "Enter a number:25\n",
            "Enter a number:9\n",
            "Enter a number:22\n",
            "Enter a number:12\n",
            "Enter a number:1\n",
            "Enter a number:3\n",
            "Enter a number:4\n",
            "Enter a number:2\n",
            "Enter a number:5\n",
            "[31, 25, 9, 22, 12, 1, 3, 4, 2, 5]\n",
            "The sum of numbers that are less than 5 is: 10\n"
          ]
        }
      ]
    },
    {
      "cell_type": "markdown",
      "source": [
        "##Problem Statement 2"
      ],
      "metadata": {
        "id": "aBThx7gQ_Pt6"
      }
    },
    {
      "cell_type": "markdown",
      "source": [
        "##For While Loop"
      ],
      "metadata": {
        "id": "Ija0R5ki-DLs"
      }
    },
    {
      "cell_type": "code",
      "source": [
        "num = 1;\n",
        "data = {};\n",
        "while(num <=5):\n",
        "  c = str(num);\n",
        "  data[num] = input(\"Enter a number:\")\n",
        "  print(\"The value for number \"+c+\" is \"+data[num])\n",
        "  num+=1\n",
        "sum= int(data[1]) + int(data[5])\n",
        "print(\"The sum of the first and last number is:\" + str(sum))"
      ],
      "metadata": {
        "colab": {
          "base_uri": "https://localhost:8080/"
        },
        "id": "iR1dICvk-GYL",
        "outputId": "9e048250-22e2-4c73-eb55-7f6344120044"
      },
      "execution_count": 41,
      "outputs": [
        {
          "output_type": "stream",
          "name": "stdout",
          "text": [
            "Enter a number:71\n",
            "The value for number 1 is 71\n",
            "Enter a number:9\n",
            "The value for number 2 is 9\n",
            "Enter a number:123456789\n",
            "The value for number 3 is 123456789\n",
            "Enter a number:31\n",
            "The value for number 4 is 31\n",
            "Enter a number:72\n",
            "The value for number 5 is 72\n",
            "The sum of the first and last number is:143\n"
          ]
        }
      ]
    },
    {
      "cell_type": "markdown",
      "source": [
        "##Problem Statement 3"
      ],
      "metadata": {
        "id": "Kjtnes5x_kEw"
      }
    },
    {
      "cell_type": "markdown",
      "source": [
        "##For Nested-IF-Else statement"
      ],
      "metadata": {
        "id": "1W7aeWPn_Z0V"
      }
    },
    {
      "cell_type": "code",
      "source": [
        "Average = float(input(\"Enter your grade:\"))\n",
        "if 90<=Average<=100:\n",
        "  print(\"A\")\n",
        "elif 80<=Average<=89:\n",
        "  print(\"B\")\n",
        "elif 70<=Average<=79:\n",
        "  print(\"C\")\n",
        "elif 60<=Average<=69:\n",
        "  print(\"D\")\n",
        "elif 0<=Average<60:\n",
        "  print(\"F\")\n",
        "else:\n",
        "  print (\"Input character is undefined\")"
      ],
      "metadata": {
        "colab": {
          "base_uri": "https://localhost:8080/"
        },
        "id": "xTR0eQUSv8pJ",
        "outputId": "36764a99-1c11-4d2a-810a-61c35b63c5ac"
      },
      "execution_count": 33,
      "outputs": [
        {
          "output_type": "stream",
          "name": "stdout",
          "text": [
            "Enter your grade:93\n",
            "A\n"
          ]
        }
      ]
    }
  ]
}