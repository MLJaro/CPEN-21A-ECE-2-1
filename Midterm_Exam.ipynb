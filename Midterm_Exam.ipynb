{
  "nbformat": 4,
  "nbformat_minor": 0,
  "metadata": {
    "colab": {
      "name": "Midterm Exam.ipynb",
      "provenance": [],
      "collapsed_sections": [],
      "authorship_tag": "ABX9TyNjNPs+n7VYVWQWkiLwg1m/",
      "include_colab_link": true
    },
    "kernelspec": {
      "name": "python3",
      "display_name": "Python 3"
    },
    "language_info": {
      "name": "python"
    }
  },
  "cells": [
    {
      "cell_type": "markdown",
      "metadata": {
        "id": "view-in-github",
        "colab_type": "text"
      },
      "source": [
        "<a href=\"https://colab.research.google.com/github/MLJaro/CPEN-21A-ECE-2-1/blob/main/Midterm_Exam.ipynb\" target=\"_parent\"><img src=\"https://colab.research.google.com/assets/colab-badge.svg\" alt=\"Open In Colab\"/></a>"
      ]
    },
    {
      "cell_type": "markdown",
      "metadata": {
        "id": "gXci7b7MGYFz"
      },
      "source": [
        "##Midterm exam"
      ]
    },
    {
      "cell_type": "code",
      "metadata": {
        "colab": {
          "base_uri": "https://localhost:8080/"
        },
        "id": "0tb4WcJwIKA1",
        "outputId": "11efe20d-d0ec-40b2-e6fe-33c3a2b6cc36"
      },
      "source": [
        "a = \"Name: Mayven Lavern D. Jaro\"\n",
        "b = \"Student Number: 202013889\"\n",
        "c = \"Age: 20 years old\"\n",
        "d = \"Birthday: October 31, 2001\"\n",
        "e = \"Address: Landmass Park Subd., Biga, Tanza, Cavite\"\n",
        "f = \"Course: BSECE\"\n",
        "g = \"Last Sem GWA: 1.69\"\n",
        "print(a)\n",
        "print(b)\n",
        "print(c)\n",
        "print(d)\n",
        "print(e)\n",
        "print(f)\n",
        "print(g)"
      ],
      "execution_count": 1,
      "outputs": [
        {
          "output_type": "stream",
          "name": "stdout",
          "text": [
            "Name: Mayven Lavern D. Jaro\n",
            "Student Number: 202013889\n",
            "Age: 20 years old\n",
            "Birthday: October 31, 2001\n",
            "Address: Landmass Park Subd., Biga, Tanza, Cavite\n",
            "Course: BSECE\n",
            "Last Sem GWA: 1.69\n"
          ]
        }
      ]
    },
    {
      "cell_type": "markdown",
      "metadata": {
        "id": "tsxspgqoI5KZ"
      },
      "source": [
        "##Problem Statement 2"
      ]
    },
    {
      "cell_type": "code",
      "metadata": {
        "colab": {
          "base_uri": "https://localhost:8080/"
        },
        "id": "uaGCbreeNvmM",
        "outputId": "bba07d90-a416-46d2-8352-e7cef419835c"
      },
      "source": [
        "n=4\n",
        "answ=\"Y\"\n",
        "a=(2<n) and (n<6)\n",
        "b=(2<n) or (n==6)\n",
        "c=not(2<n) or (n==6)\n",
        "d=not(n<6)\n",
        "e=(answ==\"Y\") or (answ==\"y\")\n",
        "f=(answ==\"Y\") and (answ==\"y\")\n",
        "g=not(answ==\"y\")\n",
        "h=((2<n)and(n==5+1)) or (answ==\"No\")\n",
        "i=((n==2)and(n==7)) or (answ==\"Y\")\n",
        "j=(n==2) and ((n==7) or(answ==\"Y\"))\n",
        "print(a)\n",
        "print(b)\n",
        "print(c)\n",
        "print(d)\n",
        "print(e)\n",
        "print(f)\n",
        "print(g)\n",
        "print(h)\n",
        "print(i)\n",
        "print(j)\n"
      ],
      "execution_count": 16,
      "outputs": [
        {
          "output_type": "stream",
          "name": "stdout",
          "text": [
            "True\n",
            "True\n",
            "False\n",
            "False\n",
            "True\n",
            "False\n",
            "True\n",
            "False\n",
            "True\n",
            "False\n"
          ]
        }
      ]
    },
    {
      "cell_type": "markdown",
      "metadata": {
        "id": "J2a0APmyOSnv"
      },
      "source": [
        "##Problem Statement 3"
      ]
    },
    {
      "cell_type": "code",
      "metadata": {
        "colab": {
          "base_uri": "https://localhost:8080/"
        },
        "id": "DvvWuH3pTCQq",
        "outputId": "ffb27da1-b4f0-420f-cf39-a91f63b8f6ab"
      },
      "source": [
        "x=2\n",
        "y=-3\n",
        "w=7\n",
        "z=-10\n",
        "a=x/y\n",
        "b=w/y/x\n",
        "c=z/y%x\n",
        "d=x%-y*w\n",
        "e=x%y\n",
        "f=z%w-y/x*5+5\n",
        "g=9-x%(2+y)\n",
        "h=z//w\n",
        "i=(2+y)**2\n",
        "j=w/x*2\n",
        "print(a)\n",
        "print(b)\n",
        "print(c)\n",
        "print(d)\n",
        "print(e)\n",
        "print(f)\n",
        "print(g)\n",
        "print(h)\n",
        "print(i)\n",
        "print(j)\n"
      ],
      "execution_count": 13,
      "outputs": [
        {
          "output_type": "stream",
          "name": "stdout",
          "text": [
            "-0.6666666666666666\n",
            "-1.1666666666666667\n",
            "1.3333333333333335\n",
            "14\n",
            "-1\n",
            "16.5\n",
            "9\n",
            "-2\n",
            "1\n",
            "7.0\n"
          ]
        }
      ]
    }
  ]
}