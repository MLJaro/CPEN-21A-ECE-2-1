{
  "nbformat": 4,
  "nbformat_minor": 0,
  "metadata": {
    "colab": {
      "name": "Control Structure.ipynb",
      "provenance": [],
      "collapsed_sections": [],
      "authorship_tag": "ABX9TyM0v8d+Knv6XEVcqt9gO/Qy",
      "include_colab_link": true
    },
    "kernelspec": {
      "name": "python3",
      "display_name": "Python 3"
    },
    "language_info": {
      "name": "python"
    }
  },
  "cells": [
    {
      "cell_type": "markdown",
      "metadata": {
        "id": "view-in-github",
        "colab_type": "text"
      },
      "source": [
        "<a href=\"https://colab.research.google.com/github/MLJaro/CPEN-21A-ECE-2-1/blob/main/Control_Structure.ipynb\" target=\"_parent\"><img src=\"https://colab.research.google.com/assets/colab-badge.svg\" alt=\"Open In Colab\"/></a>"
      ]
    },
    {
      "cell_type": "markdown",
      "metadata": {
        "id": "KnhKJfs3Nf8d"
      },
      "source": [
        "##If Statement"
      ]
    },
    {
      "cell_type": "code",
      "metadata": {
        "colab": {
          "base_uri": "https://localhost:8080/"
        },
        "id": "8YD4hQtYNjx1",
        "outputId": "73d8f19d-0f44-4ef1-ce3a-7d1bb5a7428b"
      },
      "source": [
        "a=12\n",
        "b=100\n",
        "if b>a:\n",
        "  print (\"b is greater than a\")"
      ],
      "execution_count": null,
      "outputs": [
        {
          "output_type": "stream",
          "name": "stdout",
          "text": [
            "b is greater than a\n"
          ]
        }
      ]
    },
    {
      "cell_type": "markdown",
      "metadata": {
        "id": "d7ynPAkWOIFe"
      },
      "source": [
        "##Elif Statement"
      ]
    },
    {
      "cell_type": "code",
      "metadata": {
        "colab": {
          "base_uri": "https://localhost:8080/"
        },
        "id": "b-l6rOz4OMd_",
        "outputId": "e36321c5-67f6-451f-8532-105f873bfffc"
      },
      "source": [
        "a=12\n",
        "b=13\n",
        "\n",
        "if b>a:\n",
        "  print(\"b is greater than a\")\n",
        "elif b==a:\n",
        "  print(\"b is equal to a\")"
      ],
      "execution_count": null,
      "outputs": [
        {
          "output_type": "stream",
          "name": "stdout",
          "text": [
            "b is greater than a\n"
          ]
        }
      ]
    },
    {
      "cell_type": "markdown",
      "metadata": {
        "id": "4pMr2BC-PqiT"
      },
      "source": [
        "##Else Statement"
      ]
    },
    {
      "cell_type": "code",
      "metadata": {
        "colab": {
          "base_uri": "https://localhost:8080/"
        },
        "id": "EjUs9YAKP2Nk",
        "outputId": "272aa89e-fa87-473c-abd1-a89ea14c57ef"
      },
      "source": [
        "a=30\n",
        "b=30\n",
        "if a>b:\n",
        "  print(\"a is greater than b\")\n",
        "elif b>a:\n",
        "  print(\"b is greater than a\")\n",
        "else:\n",
        "  print(\"a is equal to b\")"
      ],
      "execution_count": null,
      "outputs": [
        {
          "output_type": "stream",
          "name": "stdout",
          "text": [
            "a is equal to b\n"
          ]
        }
      ]
    },
    {
      "cell_type": "markdown",
      "metadata": {
        "id": "_vclgbl0QXNt"
      },
      "source": [
        "##Short Hand If Statement"
      ]
    },
    {
      "cell_type": "code",
      "metadata": {
        "colab": {
          "base_uri": "https://localhost:8080/"
        },
        "id": "Hqo2aX3SQcFA",
        "outputId": "f92a27ad-fdb8-4b57-b592-aaa9e9af6a12"
      },
      "source": [
        "a=12\n",
        "b=6\n",
        "if a>b: \n",
        "  print (\"a is greater than b\")"
      ],
      "execution_count": null,
      "outputs": [
        {
          "output_type": "stream",
          "name": "stdout",
          "text": [
            "a is greater than b\n"
          ]
        }
      ]
    },
    {
      "cell_type": "markdown",
      "metadata": {
        "id": "0tGozBkXQt0O"
      },
      "source": [
        "##Short Hand If... Else Statement"
      ]
    },
    {
      "cell_type": "code",
      "metadata": {
        "colab": {
          "base_uri": "https://localhost:8080/"
        },
        "id": "zXucYQedQzTw",
        "outputId": "f816336d-26dd-4cf9-a7b8-a6e2f42383c8"
      },
      "source": [
        "a=7\n",
        "b=14\n",
        "print(\"a is greater than b\") if a>b else print (\"b is greater than a\")"
      ],
      "execution_count": null,
      "outputs": [
        {
          "output_type": "stream",
          "name": "stdout",
          "text": [
            "b is greater than a\n"
          ]
        }
      ]
    },
    {
      "cell_type": "markdown",
      "metadata": {
        "id": "WJqha8w2S0aJ"
      },
      "source": [
        "##And logical condition"
      ]
    },
    {
      "cell_type": "code",
      "metadata": {
        "colab": {
          "base_uri": "https://localhost:8080/"
        },
        "id": "hhvceTXZS5Z_",
        "outputId": "5e552912-979d-4e22-8387-757d374bf819"
      },
      "source": [
        "a=200\n",
        "b=300\n",
        "c=500\n",
        "\n",
        "if a>b and c>a:\n",
        "  print(\"Both conditioal are true\")\n",
        "else:\n",
        "  print(\"evaluated as false\")"
      ],
      "execution_count": 6,
      "outputs": [
        {
          "output_type": "stream",
          "name": "stdout",
          "text": [
            "evaluated as false\n"
          ]
        }
      ]
    },
    {
      "cell_type": "markdown",
      "metadata": {
        "id": "uSKWhL3LTxSx"
      },
      "source": [
        "##Or logical condition"
      ]
    },
    {
      "cell_type": "code",
      "metadata": {
        "colab": {
          "base_uri": "https://localhost:8080/"
        },
        "id": "qPx9kv8FT55K",
        "outputId": "08629d40-8275-40d5-a2f9-db54bdc4b633"
      },
      "source": [
        "a=200\n",
        "b=300\n",
        "c=500\n",
        "\n",
        "if a>b or c>a:\n",
        "  print(\"evaluated as true\")\n",
        "else:\n",
        "  print (\"evaluated as false\")"
      ],
      "execution_count": 7,
      "outputs": [
        {
          "output_type": "stream",
          "name": "stdout",
          "text": [
            "evaluated as true\n"
          ]
        }
      ]
    },
    {
      "cell_type": "markdown",
      "metadata": {
        "id": "WwZd4GkxUjaC"
      },
      "source": [
        "##Nested If, Else statement"
      ]
    },
    {
      "cell_type": "code",
      "metadata": {
        "colab": {
          "base_uri": "https://localhost:8080/"
        },
        "id": "oLVsmIZ-VjOG",
        "outputId": "eac05e16-a2d1-4bfd-8c91-37f4a7cc9fdb"
      },
      "source": [
        "x= 20\n",
        "\n",
        "if x>10:\n",
        "  print(\"Above ten\")\n",
        "  if x>20:\n",
        "    print(\"Above twenty\")\n",
        "  else:\n",
        "    print(\"Above ten but not above twenty\")\n",
        "else:\n",
        "  print(\"Not above ten\")"
      ],
      "execution_count": 19,
      "outputs": [
        {
          "output_type": "stream",
          "name": "stdout",
          "text": [
            "Above ten\n",
            "Above ten but not above twenty\n"
          ]
        }
      ]
    },
    {
      "cell_type": "markdown",
      "metadata": {
        "id": "zORn_9XyWs8d"
      },
      "source": [
        "##Example 1"
      ]
    },
    {
      "cell_type": "code",
      "metadata": {
        "colab": {
          "base_uri": "https://localhost:8080/"
        },
        "id": "AmGXfxRlb89G",
        "outputId": "6876c171-3845-4972-8a50-d6ec326fb4f0"
      },
      "source": [
        "# The qualifying age to vote\n",
        "age=int(input(\"Enter your age:\"))\n",
        "\n",
        "if age>=18 :\n",
        "  print(\"You are qualified to vote\")\n",
        "else:\n",
        "  print(\"You are not qualified to vote\")"
      ],
      "execution_count": 14,
      "outputs": [
        {
          "output_type": "stream",
          "name": "stdout",
          "text": [
            "Enter your age:14\n",
            "You are not qualified to vote\n"
          ]
        }
      ]
    },
    {
      "cell_type": "markdown",
      "metadata": {
        "id": "8ItVFnrNX_Q1"
      },
      "source": [
        "##Example 2"
      ]
    },
    {
      "cell_type": "code",
      "metadata": {
        "colab": {
          "base_uri": "https://localhost:8080/"
        },
        "id": "smT8ouM1c9yI",
        "outputId": "79e9be9b-2db9-4d63-9d31-8fb97a919fd1"
      },
      "source": [
        "num = int(input(\"Enter the number:\"))\n",
        "if num==0:\n",
        "  print(\"zero\")\n",
        "elif num>0:\n",
        "  print(\"positive\")\n",
        "else:\n",
        "  print(\"negative\")"
      ],
      "execution_count": 15,
      "outputs": [
        {
          "output_type": "stream",
          "name": "stdout",
          "text": [
            "Enter the number:7\n",
            "positive\n"
          ]
        }
      ]
    },
    {
      "cell_type": "markdown",
      "metadata": {
        "id": "0R6SvM-HZ9Lj"
      },
      "source": [
        "##Example 3"
      ]
    },
    {
      "cell_type": "code",
      "metadata": {
        "colab": {
          "base_uri": "https://localhost:8080/"
        },
        "id": "6W9t9tFQaDfm",
        "outputId": "b724ee05-cfed-4dfc-a3c8-af6218d48627"
      },
      "source": [
        "grade= float(input(\"Enter your grade:\"))\n",
        "if grade>=75:\n",
        "  print(\"passed\")\n",
        "elif grade==74:\n",
        "  print(\"remedial\")\n",
        "else:\n",
        "  print(\"failed\")"
      ],
      "execution_count": 16,
      "outputs": [
        {
          "output_type": "stream",
          "name": "stdout",
          "text": [
            "Enter your grade:88\n",
            "passed\n"
          ]
        }
      ]
    }
  ]
}